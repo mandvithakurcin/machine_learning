{
  "nbformat": 4,
  "nbformat_minor": 0,
  "metadata": {
    "colab": {
      "name": "BASIC PYTHON PROGRAM ",
      "provenance": [],
      "authorship_tag": "ABX9TyN5IZwmT8lVX78wc51HahHZ",
      "include_colab_link": true
    },
    "kernelspec": {
      "name": "python3",
      "display_name": "Python 3"
    },
    "language_info": {
      "name": "python"
    }
  },
  "cells": [
    {
      "cell_type": "markdown",
      "metadata": {
        "id": "view-in-github",
        "colab_type": "text"
      },
      "source": [
        "<a href=\"https://colab.research.google.com/github/mandvithakurcin/machine_learning/blob/main/BASIC_PYTHON_PROGRAM.ipynb\" target=\"_parent\"><img src=\"https://colab.research.google.com/assets/colab-badge.svg\" alt=\"Open In Colab\"/></a>"
      ]
    },
    {
      "cell_type": "code",
      "metadata": {
        "id": "iPdLZp4hZiSV",
        "outputId": "75b7d887-0cb0-4923-8e81-65c0cb424c9d",
        "colab": {
          "base_uri": "https://localhost:8080/",
          "height": 68
        }
      },
      "source": [
        "List = [] \n",
        "print(List)\n",
        "list=[\"this is machine learning lab\"]\n",
        "print(list)\n",
        "print(list[0])"
      ],
      "execution_count": null,
      "outputs": [
        {
          "output_type": "stream",
          "text": [
            "[]\n",
            "['this is machine learning lab']\n",
            "this is machine learning lab\n"
          ],
          "name": "stdout"
        }
      ]
    },
    {
      "cell_type": "code",
      "metadata": {
        "id": "hJJLbWxYloMJ",
        "outputId": "28452fac-dd34-4524-f21b-c7174ff36b7e",
        "colab": {
          "base_uri": "https://localhost:8080/",
          "height": 102
        }
      },
      "source": [
        " #Creating a List with \n",
        "# the use of multiple values \n",
        "List = [\"Acro\", \"CSIV\", \"THird Year\"] \n",
        "print(\"\\nList containing multiple values: \") \n",
        "print(list)\n",
        "print(List[0])  \n",
        "print(List[2])"
      ],
      "execution_count": null,
      "outputs": [
        {
          "output_type": "stream",
          "text": [
            "\n",
            "List containing multiple values: \n",
            "['this is machine learning lab']\n",
            "Acro\n",
            "THird Year\n"
          ],
          "name": "stdout"
        }
      ]
    },
    {
      "cell_type": "code",
      "metadata": {
        "id": "jjY4ge3smA44",
        "outputId": "c8ed0ad9-ca4d-4e20-a701-a7ec5611447c",
        "colab": {
          "base_uri": "https://localhost:8080/",
          "height": 68
        }
      },
      "source": [
        "# Creating a Multi-Dimensional List \n",
        "# (By Nesting a list inside a List) \n",
        "List = [['CS', 'IV'] , ['Acro']] \n",
        "print(\"\\nMulti-Dimensional List: \") \n",
        "print(List) "
      ],
      "execution_count": null,
      "outputs": [
        {
          "output_type": "stream",
          "text": [
            "\n",
            "Multi-Dimensional List: \n",
            "[['CS', 'IV'], ['Acro']]\n"
          ],
          "name": "stdout"
        }
      ]
    },
    {
      "cell_type": "markdown",
      "metadata": {
        "id": "LR24RNgVmXmW"
      },
      "source": [
        "Lists need not be homogeneous always which makes it a most powerful tool in Python\n",
        "A single list may contain DataTypes like Integers, Strings, as well as Objects\n",
        "Lists are mutable, and hence, they can be altered even after their creation.\n",
        "Lists in Python can be created by just placing the sequence inside the square brackets[]."
      ]
    },
    {
      "cell_type": "code",
      "metadata": {
        "id": "vig-dbfTnuLx",
        "outputId": "21882af1-7b8f-4183-abc2-1cdfa4e01d89",
        "colab": {
          "base_uri": "https://localhost:8080/",
          "height": 68
        }
      },
      "source": [
        "#Creating a List with  \n",
        "# mixed type of values \n",
        "# (Having numbers and strings) \n",
        "List = [1, 2, 'Acro', 4, 'CS', 6, 'IV'] \n",
        "print(\"\\nList with the use of Mixed Values: \") \n",
        "print(List)"
      ],
      "execution_count": null,
      "outputs": [
        {
          "output_type": "stream",
          "text": [
            "\n",
            "List with the use of Mixed Values: \n",
            "[1, 2, 'Acro', 4, 'CS', 6, 'IV']\n"
          ],
          "name": "stdout"
        }
      ]
    }
  ]
}