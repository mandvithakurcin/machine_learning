{
  "nbformat": 4,
  "nbformat_minor": 0,
  "metadata": {
    "colab": {
      "name": "final lab 1",
      "provenance": [],
      "authorship_tag": "ABX9TyPVSTH9R8gaIKqNA0uY09gO",
      "include_colab_link": true
    },
    "kernelspec": {
      "name": "python3",
      "display_name": "Python 3"
    },
    "language_info": {
      "name": "python"
    }
  },
  "cells": [
    {
      "cell_type": "markdown",
      "metadata": {
        "id": "view-in-github",
        "colab_type": "text"
      },
      "source": [
        "<a href=\"https://colab.research.google.com/github/mandvithakurcin/machine_learning/blob/main/final_lab_1.ipynb\" target=\"_parent\"><img src=\"https://colab.research.google.com/assets/colab-badge.svg\" alt=\"Open In Colab\"/></a>"
      ]
    },
    {
      "cell_type": "code",
      "execution_count": null,
      "metadata": {
        "id": "LNcw2f7D1Aab"
      },
      "outputs": [],
      "source": [
        ""
      ]
    },
    {
      "cell_type": "code",
      "execution_count": null,
      "metadata": {
        "id": "cTjpyn3X1AQS"
      },
      "outputs": [],
      "source": [
        "import pandas as pd\n"
      ]
    },
    {
      "cell_type": "code",
      "source": [
        "data = pd.read_csv(\"/content/drive/MyDrive/Colab Notebooks/diabetes (2).csv\")"
      ],
      "metadata": {
        "id": "KS9F-vb-1ac2"
      },
      "execution_count": null,
      "outputs": []
    },
    {
      "cell_type": "code",
      "source": [
        "data.head(10)"
      ],
      "metadata": {
        "colab": {
          "base_uri": "https://localhost:8080/",
          "height": 363
        },
        "id": "eQMH4ipy1-bo",
        "outputId": "55c926af-cc9f-41ad-9ba9-0c6378b25273"
      },
      "execution_count": null,
      "outputs": [
        {
          "output_type": "execute_result",
          "data": {
            "text/plain": [
              "   Pregnancies  Glucose  BloodPressure  SkinThickness  Insulin   BMI  \\\n",
              "0            6      148             72             35        0  33.6   \n",
              "1            1       85             66             29        0  26.6   \n",
              "2            8      183             64              0        0  23.3   \n",
              "3            1       89             66             23       94  28.1   \n",
              "4            0      137             40             35      168  43.1   \n",
              "5            5      116             74              0        0  25.6   \n",
              "6            3       78             50             32       88  31.0   \n",
              "7           10      115              0              0        0  35.3   \n",
              "8            2      197             70             45      543  30.5   \n",
              "9            8      125             96              0        0   0.0   \n",
              "\n",
              "   DiabetesPedigreeFunction  Age  Outcome  \n",
              "0                     0.627   50        1  \n",
              "1                     0.351   31        0  \n",
              "2                     0.672   32        1  \n",
              "3                     0.167   21        0  \n",
              "4                     2.288   33        1  \n",
              "5                     0.201   30        0  \n",
              "6                     0.248   26        1  \n",
              "7                     0.134   29        0  \n",
              "8                     0.158   53        1  \n",
              "9                     0.232   54        1  "
            ],
            "text/html": [
              "\n",
              "  <div id=\"df-c5df93c4-4b0a-4e10-a37e-2d9a7012fb69\">\n",
              "    <div class=\"colab-df-container\">\n",
              "      <div>\n",
              "<style scoped>\n",
              "    .dataframe tbody tr th:only-of-type {\n",
              "        vertical-align: middle;\n",
              "    }\n",
              "\n",
              "    .dataframe tbody tr th {\n",
              "        vertical-align: top;\n",
              "    }\n",
              "\n",
              "    .dataframe thead th {\n",
              "        text-align: right;\n",
              "    }\n",
              "</style>\n",
              "<table border=\"1\" class=\"dataframe\">\n",
              "  <thead>\n",
              "    <tr style=\"text-align: right;\">\n",
              "      <th></th>\n",
              "      <th>Pregnancies</th>\n",
              "      <th>Glucose</th>\n",
              "      <th>BloodPressure</th>\n",
              "      <th>SkinThickness</th>\n",
              "      <th>Insulin</th>\n",
              "      <th>BMI</th>\n",
              "      <th>DiabetesPedigreeFunction</th>\n",
              "      <th>Age</th>\n",
              "      <th>Outcome</th>\n",
              "    </tr>\n",
              "  </thead>\n",
              "  <tbody>\n",
              "    <tr>\n",
              "      <th>0</th>\n",
              "      <td>6</td>\n",
              "      <td>148</td>\n",
              "      <td>72</td>\n",
              "      <td>35</td>\n",
              "      <td>0</td>\n",
              "      <td>33.6</td>\n",
              "      <td>0.627</td>\n",
              "      <td>50</td>\n",
              "      <td>1</td>\n",
              "    </tr>\n",
              "    <tr>\n",
              "      <th>1</th>\n",
              "      <td>1</td>\n",
              "      <td>85</td>\n",
              "      <td>66</td>\n",
              "      <td>29</td>\n",
              "      <td>0</td>\n",
              "      <td>26.6</td>\n",
              "      <td>0.351</td>\n",
              "      <td>31</td>\n",
              "      <td>0</td>\n",
              "    </tr>\n",
              "    <tr>\n",
              "      <th>2</th>\n",
              "      <td>8</td>\n",
              "      <td>183</td>\n",
              "      <td>64</td>\n",
              "      <td>0</td>\n",
              "      <td>0</td>\n",
              "      <td>23.3</td>\n",
              "      <td>0.672</td>\n",
              "      <td>32</td>\n",
              "      <td>1</td>\n",
              "    </tr>\n",
              "    <tr>\n",
              "      <th>3</th>\n",
              "      <td>1</td>\n",
              "      <td>89</td>\n",
              "      <td>66</td>\n",
              "      <td>23</td>\n",
              "      <td>94</td>\n",
              "      <td>28.1</td>\n",
              "      <td>0.167</td>\n",
              "      <td>21</td>\n",
              "      <td>0</td>\n",
              "    </tr>\n",
              "    <tr>\n",
              "      <th>4</th>\n",
              "      <td>0</td>\n",
              "      <td>137</td>\n",
              "      <td>40</td>\n",
              "      <td>35</td>\n",
              "      <td>168</td>\n",
              "      <td>43.1</td>\n",
              "      <td>2.288</td>\n",
              "      <td>33</td>\n",
              "      <td>1</td>\n",
              "    </tr>\n",
              "    <tr>\n",
              "      <th>5</th>\n",
              "      <td>5</td>\n",
              "      <td>116</td>\n",
              "      <td>74</td>\n",
              "      <td>0</td>\n",
              "      <td>0</td>\n",
              "      <td>25.6</td>\n",
              "      <td>0.201</td>\n",
              "      <td>30</td>\n",
              "      <td>0</td>\n",
              "    </tr>\n",
              "    <tr>\n",
              "      <th>6</th>\n",
              "      <td>3</td>\n",
              "      <td>78</td>\n",
              "      <td>50</td>\n",
              "      <td>32</td>\n",
              "      <td>88</td>\n",
              "      <td>31.0</td>\n",
              "      <td>0.248</td>\n",
              "      <td>26</td>\n",
              "      <td>1</td>\n",
              "    </tr>\n",
              "    <tr>\n",
              "      <th>7</th>\n",
              "      <td>10</td>\n",
              "      <td>115</td>\n",
              "      <td>0</td>\n",
              "      <td>0</td>\n",
              "      <td>0</td>\n",
              "      <td>35.3</td>\n",
              "      <td>0.134</td>\n",
              "      <td>29</td>\n",
              "      <td>0</td>\n",
              "    </tr>\n",
              "    <tr>\n",
              "      <th>8</th>\n",
              "      <td>2</td>\n",
              "      <td>197</td>\n",
              "      <td>70</td>\n",
              "      <td>45</td>\n",
              "      <td>543</td>\n",
              "      <td>30.5</td>\n",
              "      <td>0.158</td>\n",
              "      <td>53</td>\n",
              "      <td>1</td>\n",
              "    </tr>\n",
              "    <tr>\n",
              "      <th>9</th>\n",
              "      <td>8</td>\n",
              "      <td>125</td>\n",
              "      <td>96</td>\n",
              "      <td>0</td>\n",
              "      <td>0</td>\n",
              "      <td>0.0</td>\n",
              "      <td>0.232</td>\n",
              "      <td>54</td>\n",
              "      <td>1</td>\n",
              "    </tr>\n",
              "  </tbody>\n",
              "</table>\n",
              "</div>\n",
              "      <button class=\"colab-df-convert\" onclick=\"convertToInteractive('df-c5df93c4-4b0a-4e10-a37e-2d9a7012fb69')\"\n",
              "              title=\"Convert this dataframe to an interactive table.\"\n",
              "              style=\"display:none;\">\n",
              "        \n",
              "  <svg xmlns=\"http://www.w3.org/2000/svg\" height=\"24px\"viewBox=\"0 0 24 24\"\n",
              "       width=\"24px\">\n",
              "    <path d=\"M0 0h24v24H0V0z\" fill=\"none\"/>\n",
              "    <path d=\"M18.56 5.44l.94 2.06.94-2.06 2.06-.94-2.06-.94-.94-2.06-.94 2.06-2.06.94zm-11 1L8.5 8.5l.94-2.06 2.06-.94-2.06-.94L8.5 2.5l-.94 2.06-2.06.94zm10 10l.94 2.06.94-2.06 2.06-.94-2.06-.94-.94-2.06-.94 2.06-2.06.94z\"/><path d=\"M17.41 7.96l-1.37-1.37c-.4-.4-.92-.59-1.43-.59-.52 0-1.04.2-1.43.59L10.3 9.45l-7.72 7.72c-.78.78-.78 2.05 0 2.83L4 21.41c.39.39.9.59 1.41.59.51 0 1.02-.2 1.41-.59l7.78-7.78 2.81-2.81c.8-.78.8-2.07 0-2.86zM5.41 20L4 18.59l7.72-7.72 1.47 1.35L5.41 20z\"/>\n",
              "  </svg>\n",
              "      </button>\n",
              "      \n",
              "  <style>\n",
              "    .colab-df-container {\n",
              "      display:flex;\n",
              "      flex-wrap:wrap;\n",
              "      gap: 12px;\n",
              "    }\n",
              "\n",
              "    .colab-df-convert {\n",
              "      background-color: #E8F0FE;\n",
              "      border: none;\n",
              "      border-radius: 50%;\n",
              "      cursor: pointer;\n",
              "      display: none;\n",
              "      fill: #1967D2;\n",
              "      height: 32px;\n",
              "      padding: 0 0 0 0;\n",
              "      width: 32px;\n",
              "    }\n",
              "\n",
              "    .colab-df-convert:hover {\n",
              "      background-color: #E2EBFA;\n",
              "      box-shadow: 0px 1px 2px rgba(60, 64, 67, 0.3), 0px 1px 3px 1px rgba(60, 64, 67, 0.15);\n",
              "      fill: #174EA6;\n",
              "    }\n",
              "\n",
              "    [theme=dark] .colab-df-convert {\n",
              "      background-color: #3B4455;\n",
              "      fill: #D2E3FC;\n",
              "    }\n",
              "\n",
              "    [theme=dark] .colab-df-convert:hover {\n",
              "      background-color: #434B5C;\n",
              "      box-shadow: 0px 1px 3px 1px rgba(0, 0, 0, 0.15);\n",
              "      filter: drop-shadow(0px 1px 2px rgba(0, 0, 0, 0.3));\n",
              "      fill: #FFFFFF;\n",
              "    }\n",
              "  </style>\n",
              "\n",
              "      <script>\n",
              "        const buttonEl =\n",
              "          document.querySelector('#df-c5df93c4-4b0a-4e10-a37e-2d9a7012fb69 button.colab-df-convert');\n",
              "        buttonEl.style.display =\n",
              "          google.colab.kernel.accessAllowed ? 'block' : 'none';\n",
              "\n",
              "        async function convertToInteractive(key) {\n",
              "          const element = document.querySelector('#df-c5df93c4-4b0a-4e10-a37e-2d9a7012fb69');\n",
              "          const dataTable =\n",
              "            await google.colab.kernel.invokeFunction('convertToInteractive',\n",
              "                                                     [key], {});\n",
              "          if (!dataTable) return;\n",
              "\n",
              "          const docLinkHtml = 'Like what you see? Visit the ' +\n",
              "            '<a target=\"_blank\" href=https://colab.research.google.com/notebooks/data_table.ipynb>data table notebook</a>'\n",
              "            + ' to learn more about interactive tables.';\n",
              "          element.innerHTML = '';\n",
              "          dataTable['output_type'] = 'display_data';\n",
              "          await google.colab.output.renderOutput(dataTable, element);\n",
              "          const docLink = document.createElement('div');\n",
              "          docLink.innerHTML = docLinkHtml;\n",
              "          element.appendChild(docLink);\n",
              "        }\n",
              "      </script>\n",
              "    </div>\n",
              "  </div>\n",
              "  "
            ]
          },
          "metadata": {},
          "execution_count": 23
        }
      ]
    },
    {
      "cell_type": "code",
      "source": [
        "data.tail"
      ],
      "metadata": {
        "colab": {
          "base_uri": "https://localhost:8080/"
        },
        "id": "MNIav4cl2DVh",
        "outputId": "d037b18f-428f-4375-8f13-e2382c43ff70"
      },
      "execution_count": null,
      "outputs": [
        {
          "output_type": "execute_result",
          "data": {
            "text/plain": [
              "<bound method NDFrame.tail of      Pregnancies  Glucose  BloodPressure  SkinThickness  Insulin   BMI  \\\n",
              "0              6      148             72             35        0  33.6   \n",
              "1              1       85             66             29        0  26.6   \n",
              "2              8      183             64              0        0  23.3   \n",
              "3              1       89             66             23       94  28.1   \n",
              "4              0      137             40             35      168  43.1   \n",
              "..           ...      ...            ...            ...      ...   ...   \n",
              "763           10      101             76             48      180  32.9   \n",
              "764            2      122             70             27        0  36.8   \n",
              "765            5      121             72             23      112  26.2   \n",
              "766            1      126             60              0        0  30.1   \n",
              "767            1       93             70             31        0  30.4   \n",
              "\n",
              "     DiabetesPedigreeFunction  Age  Outcome  \n",
              "0                       0.627   50        1  \n",
              "1                       0.351   31        0  \n",
              "2                       0.672   32        1  \n",
              "3                       0.167   21        0  \n",
              "4                       2.288   33        1  \n",
              "..                        ...  ...      ...  \n",
              "763                     0.171   63        0  \n",
              "764                     0.340   27        0  \n",
              "765                     0.245   30        0  \n",
              "766                     0.349   47        1  \n",
              "767                     0.315   23        0  \n",
              "\n",
              "[768 rows x 9 columns]>"
            ]
          },
          "metadata": {},
          "execution_count": 7
        }
      ]
    },
    {
      "cell_type": "code",
      "source": [
        "data.columns"
      ],
      "metadata": {
        "colab": {
          "base_uri": "https://localhost:8080/"
        },
        "id": "Bh0QIemS2Ls1",
        "outputId": "3c74638b-2cbb-4cee-c7f6-47fbc10497bd"
      },
      "execution_count": null,
      "outputs": [
        {
          "output_type": "execute_result",
          "data": {
            "text/plain": [
              "Index(['Pregnancies', 'Glucose', 'BloodPressure', 'SkinThickness', 'Insulin',\n",
              "       'BMI', 'DiabetesPedigreeFunction', 'Age', 'Outcome'],\n",
              "      dtype='object')"
            ]
          },
          "metadata": {},
          "execution_count": 8
        }
      ]
    },
    {
      "cell_type": "code",
      "source": [
        "dataset= data.values"
      ],
      "metadata": {
        "id": "ZiJzoW012O4J"
      },
      "execution_count": null,
      "outputs": []
    },
    {
      "cell_type": "code",
      "source": [
        "X=dataset[:,0:8]\n",
        "Y=dataset[:,8]\n",
        "\n",
        "print(X)\n",
        "print(Y)"
      ],
      "metadata": {
        "colab": {
          "base_uri": "https://localhost:8080/"
        },
        "id": "SBw4f-2930YC",
        "outputId": "43b055d8-4baa-46e5-8449-a9a293225091"
      },
      "execution_count": null,
      "outputs": [
        {
          "output_type": "stream",
          "name": "stdout",
          "text": [
            "[[  6.    148.     72.    ...  33.6     0.627  50.   ]\n",
            " [  1.     85.     66.    ...  26.6     0.351  31.   ]\n",
            " [  8.    183.     64.    ...  23.3     0.672  32.   ]\n",
            " ...\n",
            " [  5.    121.     72.    ...  26.2     0.245  30.   ]\n",
            " [  1.    126.     60.    ...  30.1     0.349  47.   ]\n",
            " [  1.     93.     70.    ...  30.4     0.315  23.   ]]\n",
            "[1. 0. 1. 0. 1. 0. 1. 0. 1. 1. 0. 1. 0. 1. 1. 1. 1. 1. 0. 1. 0. 0. 1. 1.\n",
            " 1. 1. 1. 0. 0. 0. 0. 1. 0. 0. 0. 0. 0. 1. 1. 1. 0. 0. 0. 1. 0. 1. 0. 0.\n",
            " 1. 0. 0. 0. 0. 1. 0. 0. 1. 0. 0. 0. 0. 1. 0. 0. 1. 0. 1. 0. 0. 0. 1. 0.\n",
            " 1. 0. 0. 0. 0. 0. 1. 0. 0. 0. 0. 0. 1. 0. 0. 0. 1. 0. 0. 0. 0. 1. 0. 0.\n",
            " 0. 0. 0. 1. 1. 0. 0. 0. 0. 0. 0. 0. 0. 1. 1. 1. 0. 0. 1. 1. 1. 0. 0. 0.\n",
            " 1. 0. 0. 0. 1. 1. 0. 0. 1. 1. 1. 1. 1. 0. 0. 0. 0. 0. 0. 0. 0. 0. 0. 1.\n",
            " 0. 0. 0. 0. 0. 0. 0. 0. 1. 0. 1. 1. 0. 0. 0. 1. 0. 0. 0. 0. 1. 1. 0. 0.\n",
            " 0. 0. 1. 1. 0. 0. 0. 1. 0. 1. 0. 1. 0. 0. 0. 0. 0. 1. 1. 1. 1. 1. 0. 0.\n",
            " 1. 1. 0. 1. 0. 1. 1. 1. 0. 0. 0. 0. 0. 0. 1. 1. 0. 1. 0. 0. 0. 1. 1. 1.\n",
            " 1. 0. 1. 1. 1. 1. 0. 0. 0. 0. 0. 1. 0. 0. 1. 1. 0. 0. 0. 1. 1. 1. 1. 0.\n",
            " 0. 0. 1. 1. 0. 1. 0. 0. 0. 0. 0. 0. 0. 0. 1. 1. 0. 0. 0. 1. 0. 1. 0. 0.\n",
            " 1. 0. 1. 0. 0. 1. 1. 0. 0. 0. 0. 0. 1. 0. 0. 0. 1. 0. 0. 1. 1. 0. 0. 1.\n",
            " 0. 0. 0. 1. 1. 1. 0. 0. 1. 0. 1. 0. 1. 1. 0. 1. 0. 0. 1. 0. 1. 1. 0. 0.\n",
            " 1. 0. 1. 0. 0. 1. 0. 1. 0. 1. 1. 1. 0. 0. 1. 0. 1. 0. 0. 0. 1. 0. 0. 0.\n",
            " 0. 1. 1. 1. 0. 0. 0. 0. 0. 0. 0. 0. 0. 1. 0. 0. 0. 0. 0. 1. 1. 1. 0. 1.\n",
            " 1. 0. 0. 1. 0. 0. 1. 0. 0. 1. 1. 0. 0. 0. 0. 1. 0. 0. 1. 0. 0. 0. 0. 0.\n",
            " 0. 0. 1. 1. 1. 0. 0. 1. 0. 0. 1. 0. 0. 1. 0. 1. 1. 0. 1. 0. 1. 0. 1. 0.\n",
            " 1. 1. 0. 0. 0. 0. 1. 1. 0. 1. 0. 1. 0. 0. 0. 0. 1. 1. 0. 1. 0. 1. 0. 0.\n",
            " 0. 0. 0. 1. 0. 0. 0. 0. 1. 0. 0. 1. 1. 1. 0. 0. 1. 0. 0. 1. 0. 0. 0. 1.\n",
            " 0. 0. 1. 0. 0. 0. 0. 0. 0. 0. 0. 0. 1. 0. 0. 0. 0. 0. 0. 0. 1. 0. 0. 0.\n",
            " 1. 0. 0. 0. 1. 1. 0. 0. 0. 0. 0. 0. 0. 1. 0. 0. 0. 0. 1. 0. 0. 0. 1. 0.\n",
            " 0. 0. 1. 0. 0. 0. 1. 0. 0. 0. 0. 1. 1. 0. 0. 0. 0. 0. 0. 1. 0. 0. 0. 0.\n",
            " 0. 0. 0. 0. 0. 0. 0. 1. 0. 0. 0. 1. 1. 1. 1. 0. 0. 1. 1. 0. 0. 0. 0. 0.\n",
            " 0. 0. 0. 0. 0. 0. 0. 0. 1. 1. 0. 0. 0. 0. 0. 0. 0. 1. 0. 0. 0. 0. 0. 0.\n",
            " 0. 1. 0. 1. 1. 0. 0. 0. 1. 0. 1. 0. 1. 0. 1. 0. 1. 0. 0. 1. 0. 0. 1. 0.\n",
            " 0. 0. 0. 1. 1. 0. 1. 0. 0. 0. 0. 1. 1. 0. 1. 0. 0. 0. 1. 1. 0. 0. 0. 0.\n",
            " 0. 0. 0. 0. 0. 0. 1. 0. 0. 0. 0. 1. 0. 0. 1. 0. 0. 0. 1. 0. 0. 0. 1. 1.\n",
            " 1. 0. 0. 0. 0. 0. 0. 1. 0. 0. 0. 1. 0. 1. 1. 1. 1. 0. 1. 1. 0. 0. 0. 0.\n",
            " 0. 0. 0. 1. 1. 0. 1. 0. 0. 1. 0. 1. 0. 0. 0. 0. 0. 1. 0. 1. 0. 1. 0. 1.\n",
            " 1. 0. 0. 0. 0. 1. 1. 0. 0. 0. 1. 0. 1. 1. 0. 0. 1. 0. 0. 1. 1. 0. 0. 1.\n",
            " 0. 0. 1. 0. 0. 0. 0. 0. 0. 0. 1. 1. 1. 0. 0. 0. 0. 0. 0. 1. 1. 0. 0. 1.\n",
            " 0. 0. 1. 0. 1. 1. 1. 0. 0. 1. 1. 1. 0. 1. 0. 1. 0. 1. 0. 0. 0. 0. 1. 0.]\n"
          ]
        }
      ]
    },
    {
      "cell_type": "code",
      "source": [
        ""
      ],
      "metadata": {
        "id": "VDBwTGZM4TEr"
      },
      "execution_count": null,
      "outputs": []
    },
    {
      "cell_type": "code",
      "source": [
        "from sklearn import preprocessing\n",
        "min_max_scaler = preprocessing.MinMaxScaler()\n",
        "X_scale = min_max_scaler.fit_transform(X)\n",
        "X_scale"
      ],
      "metadata": {
        "colab": {
          "base_uri": "https://localhost:8080/"
        },
        "id": "nWvybyXw2R5c",
        "outputId": "b4ce4ace-7779-42d4-a323-d67c34b8e93b"
      },
      "execution_count": null,
      "outputs": [
        {
          "output_type": "execute_result",
          "data": {
            "text/plain": [
              "array([[0.35294118, 0.74371859, 0.59016393, ..., 0.50074516, 0.23441503,\n",
              "        0.48333333],\n",
              "       [0.05882353, 0.42713568, 0.54098361, ..., 0.39642325, 0.11656704,\n",
              "        0.16666667],\n",
              "       [0.47058824, 0.91959799, 0.52459016, ..., 0.34724292, 0.25362938,\n",
              "        0.18333333],\n",
              "       ...,\n",
              "       [0.29411765, 0.6080402 , 0.59016393, ..., 0.390462  , 0.07130658,\n",
              "        0.15      ],\n",
              "       [0.05882353, 0.63316583, 0.49180328, ..., 0.4485842 , 0.11571307,\n",
              "        0.43333333],\n",
              "       [0.05882353, 0.46733668, 0.57377049, ..., 0.45305514, 0.10119556,\n",
              "        0.03333333]])"
            ]
          },
          "metadata": {},
          "execution_count": 11
        }
      ]
    },
    {
      "cell_type": "code",
      "source": [
        "from keras.utils import np_utils\n",
        "encoded_y = np_utils.to_categorical(Y)\n",
        "encoded_y"
      ],
      "metadata": {
        "colab": {
          "base_uri": "https://localhost:8080/"
        },
        "id": "F4dmhhBH4bTI",
        "outputId": "088a2574-7d0a-415b-f87f-5e6c453cdc23"
      },
      "execution_count": null,
      "outputs": [
        {
          "output_type": "execute_result",
          "data": {
            "text/plain": [
              "array([[0., 1.],\n",
              "       [1., 0.],\n",
              "       [0., 1.],\n",
              "       ...,\n",
              "       [1., 0.],\n",
              "       [0., 1.],\n",
              "       [1., 0.]], dtype=float32)"
            ]
          },
          "metadata": {},
          "execution_count": 12
        }
      ]
    },
    {
      "cell_type": "code",
      "source": [
        "from sklearn.model_selection import train_test_split\n",
        "X_training, X_testing, Y_training, Y_testing = train_test_split( X_scale, encoded_y, test_size = 0.2, random_state = 10)\n",
        "X_training, X_valid, Y_training, Y_valid = train_test_split(X_training, Y_training, test_size = 0.2, random_state = 10)\n",
        "print(len(X_training))\n",
        "print(len(X_testing))\n",
        "print(len(X_valid))\n"
      ],
      "metadata": {
        "colab": {
          "base_uri": "https://localhost:8080/"
        },
        "id": "xZdKPPcN4zCZ",
        "outputId": "bf8f6b01-5867-43bb-940c-3a9294b259cc"
      },
      "execution_count": null,
      "outputs": [
        {
          "output_type": "stream",
          "name": "stdout",
          "text": [
            "491\n",
            "154\n",
            "123\n"
          ]
        }
      ]
    },
    {
      "cell_type": "code",
      "source": [
        "from keras.models import Sequential\n",
        "from keras.layers import Dense\n",
        "\n",
        "# Creating the model\n",
        "model = Sequential()\n",
        "model.add(Dense(24, input_shape=(8,), activation='relu'))\n",
        "model.add(Dense(20, activation='relu'))\n",
        "model.add(Dense(12, activation='tanh'))\n",
        "model.add(Dense(8, activation='relu'))\n",
        "model.add(Dense(2, activation='softmax'))\n",
        "model.summary() #gives a summary of the model"
      ],
      "metadata": {
        "colab": {
          "base_uri": "https://localhost:8080/"
        },
        "id": "u9uBxZpbPwFa",
        "outputId": "8f4060c1-cff7-4e36-d7e9-831e15370c08"
      },
      "execution_count": null,
      "outputs": [
        {
          "output_type": "stream",
          "name": "stdout",
          "text": [
            "Model: \"sequential\"\n",
            "_________________________________________________________________\n",
            " Layer (type)                Output Shape              Param #   \n",
            "=================================================================\n",
            " dense (Dense)               (None, 24)                216       \n",
            "                                                                 \n",
            " dense_1 (Dense)             (None, 20)                500       \n",
            "                                                                 \n",
            " dense_2 (Dense)             (None, 12)                252       \n",
            "                                                                 \n",
            " dense_3 (Dense)             (None, 8)                 104       \n",
            "                                                                 \n",
            " dense_4 (Dense)             (None, 2)                 18        \n",
            "                                                                 \n",
            "=================================================================\n",
            "Total params: 1,090\n",
            "Trainable params: 1,090\n",
            "Non-trainable params: 0\n",
            "_________________________________________________________________\n"
          ]
        }
      ]
    },
    {
      "cell_type": "code",
      "source": [
        "#gross entopy is use\n",
        "from tensorflow.keras import optimizers\n",
        "opt = optimizers.SGD(learning_rate =0.01)\n",
        "model.compile(loss ='categorical_crossentropy',optimizer =opt, metrics=['accuracy'])"
      ],
      "metadata": {
        "id": "8BCPJqGZ9sdH"
      },
      "execution_count": null,
      "outputs": []
    },
    {
      "cell_type": "code",
      "source": [
        "#Model trianing\n",
        "hist = model.fit(X_training, Y_training,batch_size =4 ,epochs=75, validation_data=(X_valid,Y_valid))"
      ],
      "metadata": {
        "colab": {
          "base_uri": "https://localhost:8080/"
        },
        "id": "tDJhH1XSSjun",
        "outputId": "0a939788-3d65-4f26-cc89-5f1b21911fea"
      },
      "execution_count": null,
      "outputs": [
        {
          "output_type": "stream",
          "name": "stdout",
          "text": [
            "Epoch 1/75\n",
            "123/123 [==============================] - 2s 5ms/step - loss: 0.6649 - accuracy: 0.6334 - val_loss: 0.6530 - val_accuracy: 0.6260\n",
            "Epoch 2/75\n",
            "123/123 [==============================] - 0s 2ms/step - loss: 0.6316 - accuracy: 0.6680 - val_loss: 0.6468 - val_accuracy: 0.6260\n",
            "Epoch 3/75\n",
            "123/123 [==============================] - 0s 3ms/step - loss: 0.6219 - accuracy: 0.6680 - val_loss: 0.6412 - val_accuracy: 0.6260\n",
            "Epoch 4/75\n",
            "123/123 [==============================] - 1s 5ms/step - loss: 0.6155 - accuracy: 0.6680 - val_loss: 0.6382 - val_accuracy: 0.6260\n",
            "Epoch 5/75\n",
            "123/123 [==============================] - 0s 3ms/step - loss: 0.6097 - accuracy: 0.6680 - val_loss: 0.6265 - val_accuracy: 0.6260\n",
            "Epoch 6/75\n",
            "123/123 [==============================] - 1s 5ms/step - loss: 0.6022 - accuracy: 0.6680 - val_loss: 0.6201 - val_accuracy: 0.6260\n",
            "Epoch 7/75\n",
            "123/123 [==============================] - 0s 3ms/step - loss: 0.5932 - accuracy: 0.6680 - val_loss: 0.6107 - val_accuracy: 0.6341\n",
            "Epoch 8/75\n",
            "123/123 [==============================] - 1s 5ms/step - loss: 0.5814 - accuracy: 0.6762 - val_loss: 0.5966 - val_accuracy: 0.6504\n",
            "Epoch 9/75\n",
            "123/123 [==============================] - 0s 4ms/step - loss: 0.5702 - accuracy: 0.6823 - val_loss: 0.5782 - val_accuracy: 0.7154\n",
            "Epoch 10/75\n",
            "123/123 [==============================] - 0s 3ms/step - loss: 0.5549 - accuracy: 0.7088 - val_loss: 0.5621 - val_accuracy: 0.7154\n",
            "Epoch 11/75\n",
            "123/123 [==============================] - 0s 2ms/step - loss: 0.5426 - accuracy: 0.7291 - val_loss: 0.5701 - val_accuracy: 0.6829\n",
            "Epoch 12/75\n",
            "123/123 [==============================] - 0s 2ms/step - loss: 0.5335 - accuracy: 0.7230 - val_loss: 0.5355 - val_accuracy: 0.7154\n",
            "Epoch 13/75\n",
            "123/123 [==============================] - 0s 2ms/step - loss: 0.5259 - accuracy: 0.7373 - val_loss: 0.5227 - val_accuracy: 0.7317\n",
            "Epoch 14/75\n",
            "123/123 [==============================] - 0s 2ms/step - loss: 0.5093 - accuracy: 0.7495 - val_loss: 0.5120 - val_accuracy: 0.7236\n",
            "Epoch 15/75\n",
            "123/123 [==============================] - 0s 2ms/step - loss: 0.5081 - accuracy: 0.7556 - val_loss: 0.5045 - val_accuracy: 0.7398\n",
            "Epoch 16/75\n",
            "123/123 [==============================] - 0s 2ms/step - loss: 0.5027 - accuracy: 0.7454 - val_loss: 0.4965 - val_accuracy: 0.7398\n",
            "Epoch 17/75\n",
            "123/123 [==============================] - 0s 2ms/step - loss: 0.5006 - accuracy: 0.7515 - val_loss: 0.4905 - val_accuracy: 0.7642\n",
            "Epoch 18/75\n",
            "123/123 [==============================] - 0s 2ms/step - loss: 0.4957 - accuracy: 0.7556 - val_loss: 0.5005 - val_accuracy: 0.7724\n",
            "Epoch 19/75\n",
            "123/123 [==============================] - 0s 2ms/step - loss: 0.4897 - accuracy: 0.7617 - val_loss: 0.4802 - val_accuracy: 0.7724\n",
            "Epoch 20/75\n",
            "123/123 [==============================] - 0s 2ms/step - loss: 0.4893 - accuracy: 0.7658 - val_loss: 0.4894 - val_accuracy: 0.7642\n",
            "Epoch 21/75\n",
            "123/123 [==============================] - 0s 2ms/step - loss: 0.4863 - accuracy: 0.7556 - val_loss: 0.4948 - val_accuracy: 0.7724\n",
            "Epoch 22/75\n",
            "123/123 [==============================] - 0s 2ms/step - loss: 0.4862 - accuracy: 0.7719 - val_loss: 0.4768 - val_accuracy: 0.7805\n",
            "Epoch 23/75\n",
            "123/123 [==============================] - 0s 2ms/step - loss: 0.4887 - accuracy: 0.7617 - val_loss: 0.4865 - val_accuracy: 0.7886\n",
            "Epoch 24/75\n",
            "123/123 [==============================] - 0s 2ms/step - loss: 0.4810 - accuracy: 0.7536 - val_loss: 0.4936 - val_accuracy: 0.7724\n",
            "Epoch 25/75\n",
            "123/123 [==============================] - 0s 2ms/step - loss: 0.4803 - accuracy: 0.7739 - val_loss: 0.4663 - val_accuracy: 0.7724\n",
            "Epoch 26/75\n",
            "123/123 [==============================] - 0s 3ms/step - loss: 0.4742 - accuracy: 0.7658 - val_loss: 0.4925 - val_accuracy: 0.7724\n",
            "Epoch 27/75\n",
            "123/123 [==============================] - 0s 2ms/step - loss: 0.4719 - accuracy: 0.7678 - val_loss: 0.4782 - val_accuracy: 0.8049\n",
            "Epoch 28/75\n",
            "123/123 [==============================] - 0s 2ms/step - loss: 0.4818 - accuracy: 0.7495 - val_loss: 0.4652 - val_accuracy: 0.7886\n",
            "Epoch 29/75\n",
            "123/123 [==============================] - 0s 2ms/step - loss: 0.4742 - accuracy: 0.7678 - val_loss: 0.4674 - val_accuracy: 0.7724\n",
            "Epoch 30/75\n",
            "123/123 [==============================] - 0s 2ms/step - loss: 0.4721 - accuracy: 0.7678 - val_loss: 0.5207 - val_accuracy: 0.7561\n",
            "Epoch 31/75\n",
            "123/123 [==============================] - 0s 2ms/step - loss: 0.4805 - accuracy: 0.7576 - val_loss: 0.4640 - val_accuracy: 0.7724\n",
            "Epoch 32/75\n",
            "123/123 [==============================] - 0s 2ms/step - loss: 0.4741 - accuracy: 0.7658 - val_loss: 0.4692 - val_accuracy: 0.7967\n",
            "Epoch 33/75\n",
            "123/123 [==============================] - 0s 2ms/step - loss: 0.4693 - accuracy: 0.7637 - val_loss: 0.4852 - val_accuracy: 0.7805\n",
            "Epoch 34/75\n",
            "123/123 [==============================] - 0s 2ms/step - loss: 0.4770 - accuracy: 0.7597 - val_loss: 0.4655 - val_accuracy: 0.7886\n",
            "Epoch 35/75\n",
            "123/123 [==============================] - 0s 2ms/step - loss: 0.4596 - accuracy: 0.7821 - val_loss: 0.5115 - val_accuracy: 0.7724\n",
            "Epoch 36/75\n",
            "123/123 [==============================] - 0s 2ms/step - loss: 0.4749 - accuracy: 0.7678 - val_loss: 0.4690 - val_accuracy: 0.8049\n",
            "Epoch 37/75\n",
            "123/123 [==============================] - 0s 2ms/step - loss: 0.4638 - accuracy: 0.7576 - val_loss: 0.4742 - val_accuracy: 0.7886\n",
            "Epoch 38/75\n",
            "123/123 [==============================] - 0s 2ms/step - loss: 0.4651 - accuracy: 0.7699 - val_loss: 0.4595 - val_accuracy: 0.8049\n",
            "Epoch 39/75\n",
            "123/123 [==============================] - 0s 2ms/step - loss: 0.4614 - accuracy: 0.7760 - val_loss: 0.4725 - val_accuracy: 0.7967\n",
            "Epoch 40/75\n",
            "123/123 [==============================] - 0s 2ms/step - loss: 0.4697 - accuracy: 0.7556 - val_loss: 0.4668 - val_accuracy: 0.7724\n",
            "Epoch 41/75\n",
            "123/123 [==============================] - 0s 2ms/step - loss: 0.4608 - accuracy: 0.7821 - val_loss: 0.4719 - val_accuracy: 0.7967\n",
            "Epoch 42/75\n",
            "123/123 [==============================] - 0s 2ms/step - loss: 0.4666 - accuracy: 0.7576 - val_loss: 0.4607 - val_accuracy: 0.7805\n",
            "Epoch 43/75\n",
            "123/123 [==============================] - 0s 2ms/step - loss: 0.4641 - accuracy: 0.7739 - val_loss: 0.4946 - val_accuracy: 0.7805\n",
            "Epoch 44/75\n",
            "123/123 [==============================] - 0s 2ms/step - loss: 0.4759 - accuracy: 0.7495 - val_loss: 0.4639 - val_accuracy: 0.7724\n",
            "Epoch 45/75\n",
            "123/123 [==============================] - 0s 2ms/step - loss: 0.4683 - accuracy: 0.7556 - val_loss: 0.4764 - val_accuracy: 0.7805\n",
            "Epoch 46/75\n",
            "123/123 [==============================] - 0s 2ms/step - loss: 0.4609 - accuracy: 0.7719 - val_loss: 0.4586 - val_accuracy: 0.7805\n",
            "Epoch 47/75\n",
            "123/123 [==============================] - 0s 2ms/step - loss: 0.4630 - accuracy: 0.7821 - val_loss: 0.4867 - val_accuracy: 0.7967\n",
            "Epoch 48/75\n",
            "123/123 [==============================] - 0s 2ms/step - loss: 0.4529 - accuracy: 0.7678 - val_loss: 0.4609 - val_accuracy: 0.8049\n",
            "Epoch 49/75\n",
            "123/123 [==============================] - 0s 2ms/step - loss: 0.4513 - accuracy: 0.7862 - val_loss: 0.4663 - val_accuracy: 0.7805\n",
            "Epoch 50/75\n",
            "123/123 [==============================] - 0s 3ms/step - loss: 0.4607 - accuracy: 0.7800 - val_loss: 0.4525 - val_accuracy: 0.7886\n",
            "Epoch 51/75\n",
            "123/123 [==============================] - 0s 4ms/step - loss: 0.4615 - accuracy: 0.7597 - val_loss: 0.4495 - val_accuracy: 0.7805\n",
            "Epoch 52/75\n",
            "123/123 [==============================] - 1s 4ms/step - loss: 0.4612 - accuracy: 0.7780 - val_loss: 0.4715 - val_accuracy: 0.7886\n",
            "Epoch 53/75\n",
            "123/123 [==============================] - 1s 4ms/step - loss: 0.4587 - accuracy: 0.7800 - val_loss: 0.4820 - val_accuracy: 0.7967\n",
            "Epoch 54/75\n",
            "123/123 [==============================] - 0s 3ms/step - loss: 0.4506 - accuracy: 0.7760 - val_loss: 0.4715 - val_accuracy: 0.7724\n",
            "Epoch 55/75\n",
            "123/123 [==============================] - 0s 3ms/step - loss: 0.4538 - accuracy: 0.7719 - val_loss: 0.4708 - val_accuracy: 0.8049\n",
            "Epoch 56/75\n",
            "123/123 [==============================] - 0s 3ms/step - loss: 0.4474 - accuracy: 0.7800 - val_loss: 0.4514 - val_accuracy: 0.7886\n",
            "Epoch 57/75\n",
            "123/123 [==============================] - 1s 4ms/step - loss: 0.4551 - accuracy: 0.7699 - val_loss: 0.4598 - val_accuracy: 0.7805\n",
            "Epoch 58/75\n",
            "123/123 [==============================] - 1s 8ms/step - loss: 0.4528 - accuracy: 0.7882 - val_loss: 0.4975 - val_accuracy: 0.7724\n",
            "Epoch 59/75\n",
            "123/123 [==============================] - 0s 4ms/step - loss: 0.4531 - accuracy: 0.7678 - val_loss: 0.4574 - val_accuracy: 0.7967\n",
            "Epoch 60/75\n",
            "123/123 [==============================] - 1s 4ms/step - loss: 0.4549 - accuracy: 0.8004 - val_loss: 0.5057 - val_accuracy: 0.7805\n",
            "Epoch 61/75\n",
            "123/123 [==============================] - 1s 5ms/step - loss: 0.4514 - accuracy: 0.7699 - val_loss: 0.4650 - val_accuracy: 0.8049\n",
            "Epoch 62/75\n",
            "123/123 [==============================] - 1s 4ms/step - loss: 0.4539 - accuracy: 0.7739 - val_loss: 0.4645 - val_accuracy: 0.7967\n",
            "Epoch 63/75\n",
            "123/123 [==============================] - 1s 5ms/step - loss: 0.4525 - accuracy: 0.7800 - val_loss: 0.4757 - val_accuracy: 0.8049\n",
            "Epoch 64/75\n",
            "123/123 [==============================] - 0s 4ms/step - loss: 0.4538 - accuracy: 0.7658 - val_loss: 0.4669 - val_accuracy: 0.7805\n",
            "Epoch 65/75\n",
            "123/123 [==============================] - 1s 5ms/step - loss: 0.4466 - accuracy: 0.7821 - val_loss: 0.4525 - val_accuracy: 0.8293\n",
            "Epoch 66/75\n",
            "123/123 [==============================] - 1s 7ms/step - loss: 0.4477 - accuracy: 0.7821 - val_loss: 0.4662 - val_accuracy: 0.7805\n",
            "Epoch 67/75\n",
            "123/123 [==============================] - 0s 2ms/step - loss: 0.4393 - accuracy: 0.7821 - val_loss: 0.5095 - val_accuracy: 0.7886\n",
            "Epoch 68/75\n",
            "123/123 [==============================] - 0s 2ms/step - loss: 0.4485 - accuracy: 0.7780 - val_loss: 0.4864 - val_accuracy: 0.8049\n",
            "Epoch 69/75\n",
            "123/123 [==============================] - 0s 2ms/step - loss: 0.4417 - accuracy: 0.7841 - val_loss: 0.6158 - val_accuracy: 0.6829\n",
            "Epoch 70/75\n",
            "123/123 [==============================] - 0s 2ms/step - loss: 0.4496 - accuracy: 0.7882 - val_loss: 0.4670 - val_accuracy: 0.8049\n",
            "Epoch 71/75\n",
            "123/123 [==============================] - 0s 2ms/step - loss: 0.4400 - accuracy: 0.7841 - val_loss: 0.4660 - val_accuracy: 0.7886\n",
            "Epoch 72/75\n",
            "123/123 [==============================] - 0s 2ms/step - loss: 0.4420 - accuracy: 0.8024 - val_loss: 0.4492 - val_accuracy: 0.8049\n",
            "Epoch 73/75\n",
            "123/123 [==============================] - 0s 2ms/step - loss: 0.4434 - accuracy: 0.7719 - val_loss: 0.4587 - val_accuracy: 0.8049\n",
            "Epoch 74/75\n",
            "123/123 [==============================] - 0s 2ms/step - loss: 0.4402 - accuracy: 0.7882 - val_loss: 0.4432 - val_accuracy: 0.8374\n",
            "Epoch 75/75\n",
            "123/123 [==============================] - 0s 2ms/step - loss: 0.4428 - accuracy: 0.7841 - val_loss: 0.4663 - val_accuracy: 0.7967\n"
          ]
        }
      ]
    },
    {
      "cell_type": "code",
      "source": [
        "#plot training loss and accuracy\n",
        "#test our model\n",
        "import matplotlib.pyplot as plt \n",
        "acc = hist.history['accuracy']\n",
        "val_acc = hist.history['val_accuracy']\n",
        "loss = hist.history['loss']\n",
        "val_loss = hist.history['val_loss']\n",
        " \n",
        "epochs = range(len(acc))\n",
        " \n",
        "plt.plot(epochs, acc, 'b', label='Training acc')\n",
        "plt.plot(epochs, val_acc, 'r', label='Validation acc')\n",
        "plt.title('Training and validation accuracy')\n",
        "plt.legend()\n",
        "plt.savefig('custom_trainvalacc.png')\n",
        "plt.figure()\n",
        "plt.plot(epochs, loss, 'b', label='Training loss')\n",
        "plt.plot(epochs, val_loss, 'r', label='Validation loss')\n",
        "plt.title('Training and validation loss')\n",
        "plt.legend()\n",
        " \n",
        "#plt.show()\n",
        "plt.savefig('custom_trainvalloss.png')\n",
        "plt.figure()\n"
      ],
      "metadata": {
        "colab": {
          "base_uri": "https://localhost:8080/",
          "height": 580
        },
        "id": "txcH4aHASk-t",
        "outputId": "33b744e0-1ec5-4f34-cfe0-ec93a1aff10f"
      },
      "execution_count": null,
      "outputs": [
        {
          "output_type": "execute_result",
          "data": {
            "text/plain": [
              "<Figure size 432x288 with 0 Axes>"
            ]
          },
          "metadata": {},
          "execution_count": 18
        },
        {
          "output_type": "display_data",
          "data": {
            "text/plain": [
              "<Figure size 432x288 with 1 Axes>"
            ],
            "image/png": "[encoded data removed]"
          },
          "metadata": {
            "needs_background": "light"
          }
        },
        {
          "output_type": "display_data",
          "data": {
            "text/plain": [
              "<Figure size 432x288 with 1 Axes>"
            ],
            "image/png": "[encoded data removed]"
          },
          "metadata": {
            "needs_background": "light"
          }
        },
        {
          "output_type": "display_data",
          "data": {
            "text/plain": [
              "<Figure size 432x288 with 0 Axes>"
            ]
          },
          "metadata": {}
        }
      ]
    },
    {
      "cell_type": "code",
      "source": [
        "#evaluate the performance\n",
        "res = model.evaluate(X_testing,Y_testing)"
      ],
      "metadata": {
        "colab": {
          "base_uri": "https://localhost:8080/"
        },
        "id": "1AFtFEjRR2Vv",
        "outputId": "7cca2e4c-eff7-4954-fdb6-d15d588d7554"
      },
      "execution_count": null,
      "outputs": [
        {
          "output_type": "stream",
          "name": "stdout",
          "text": [
            "5/5 [==============================] - 0s 4ms/step - loss: 0.5055 - accuracy: 0.7403\n"
          ]
        }
      ]
    },
    {
      "cell_type": "code",
      "source": [
        "test=X_testing[0]\n",
        "y_act = Y_testing[0]\n",
        "result=model.predict(test.reshape(1,8))\n",
        "result"
      ],
      "metadata": {
        "colab": {
          "base_uri": "https://localhost:8080/"
        },
        "id": "AvnZkZVHTFvG",
        "outputId": "3bb0aef8-79be-4159-e232-02f9d25bb868"
      },
      "execution_count": null,
      "outputs": [
        {
          "output_type": "execute_result",
          "data": {
            "text/plain": [
              "array([[0.48545128, 0.51454866]], dtype=float32)"
            ]
          },
          "metadata": {},
          "execution_count": 21
        }
      ]
    },
    {
      "cell_type": "code",
      "source": [
        "import numpy as np\n",
        "Y_pred = np.round(result)\n",
        "print(\"Actual\" +str(y_act))\n",
        "print(\"Predicted\" + str(Y_pred))"
      ],
      "metadata": {
        "colab": {
          "base_uri": "https://localhost:8080/"
        },
        "id": "g1NCqtsaUJn_",
        "outputId": "ee9b7b63-5b56-4c41-8020-d35198eb954e"
      },
      "execution_count": null,
      "outputs": [
        {
          "output_type": "stream",
          "name": "stdout",
          "text": [
            "Actual[1. 0.]\n",
            "Predicted[[0. 1.]]\n"
          ]
        }
      ]
    },
    {
      "cell_type": "code",
      "source": [
        ""
      ],
      "metadata": {
        "id": "CPzmDo4hVO1t"
      },
      "execution_count": null,
      "outputs": []
    }
  ]
}